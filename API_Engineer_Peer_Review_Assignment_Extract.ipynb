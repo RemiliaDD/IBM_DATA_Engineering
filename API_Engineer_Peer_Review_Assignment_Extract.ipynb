{
 "cells": [
  {
   "cell_type": "markdown",
   "metadata": {},
   "source": [
    "<center>\n",
    "    <img src=\"https://gitlab.com/ibm/skills-network/courses/placeholder101/-/raw/master/labs/module%201/images/IDSNlogo.png\" width=\"300\" alt=\"cognitiveclass.ai logo\"  />\n",
    "</center>\n"
   ]
  },
  {
   "cell_type": "markdown",
   "metadata": {},
   "source": [
    "# Peer Review Assignment - Data Engineer - Extract API Data\n"
   ]
  },
  {
   "cell_type": "markdown",
   "metadata": {},
   "source": [
    "Estimated time needed: **20** minutes\n"
   ]
  },
  {
   "cell_type": "markdown",
   "metadata": {},
   "source": [
    "## Objectives\n",
    "\n",
    "In this part you will:\n",
    "\n",
    "*   Collect exchange rate data using an API\n",
    "*   Store the data as a CSV\n"
   ]
  },
  {
   "cell_type": "markdown",
   "metadata": {},
   "source": [
    "For this lab, we are going to be using Python and several Python libraries. Some of these libraries might be installed in your lab environment or in SN Labs. Others may need to be installed by you. The cells below will install these libraries when executed.\n"
   ]
  },
  {
   "cell_type": "code",
   "execution_count": 1,
   "metadata": {},
   "outputs": [],
   "source": [
    "#!pip install pandas\n",
    "#!pip install requests"
   ]
  },
  {
   "cell_type": "markdown",
   "metadata": {},
   "source": [
    "## Imports\n",
    "\n",
    "Import any additional libraries you may need here.\n"
   ]
  },
  {
   "cell_type": "code",
   "execution_count": 2,
   "metadata": {},
   "outputs": [],
   "source": [
    "import requests\n",
    "import pandas as pd"
   ]
  },
  {
   "cell_type": "markdown",
   "metadata": {},
   "source": [
    "## Extract Data Using an API\n"
   ]
  },
  {
   "cell_type": "markdown",
   "metadata": {},
   "source": [
    "Using ExchangeRate-API we will extract currency exchange rate data. Use the below steps to get the access key and to get the data.\n",
    "\n",
    "1.  Open the url : [https://exchangeratesapi.io/](https://exchangeratesapi.io/?utm_medium=Exinfluencer&utm_source=Exinfluencer&utm_content=000026UJ&utm_term=10006555&utm_id=NA-SkillsNetwork-Channel-SkillsNetworkCoursesIBMDeveloperSkillsNetworkPY0221ENSkillsNetwork23455645-2021-01-01) and create a free account.\n",
    "2.  Once the account is created. You will get the Get the Free API key option on the top as shown below:\n",
    "\n",
    "<img src=\"https://cf-courses-data.s3.us.cloud-object-storage.appdomain.cloud/IBMDeveloperSkillsNetwork-PY0221EN-SkillsNetwork/labs/module%206/Final%20Assignment/Images/getapi.png\"/>\n",
    "\n",
    "3.  Copy the API key and use in the url in Question 1.\n"
   ]
  },
  {
   "cell_type": "markdown",
   "metadata": {},
   "source": [
    "### Call the API\n",
    "\n",
    "<b> Question 1</b> Using the `requests` library call the endpoint given above and save the text, remember the first few characters of the output:\n"
   ]
  },
  {
   "cell_type": "code",
   "execution_count": 4,
   "metadata": {},
   "outputs": [
    {
     "data": {
      "text/plain": [
       "{'success': True,\n",
       " 'timestamp': 1645635662,\n",
       " 'base': 'EUR',\n",
       " 'date': '2022-02-23',\n",
       " 'rates': {'AED': 4.156383,\n",
       "  'AFN': 104.104154,\n",
       "  'ALL': 121.102145,\n",
       "  'AMD': 541.77448,\n",
       "  'ANG': 2.039221,\n",
       "  'AOA': 565.05929,\n",
       "  'ARS': 121.455841,\n",
       "  'AUD': 1.561976,\n",
       "  'AWG': 2.037116,\n",
       "  'AZN': 1.926738,\n",
       "  'BAM': 1.951353,\n",
       "  'BBD': 2.284558,\n",
       "  'BDT': 97.273349,\n",
       "  'BGN': 1.952736,\n",
       "  'BHD': 0.426579,\n",
       "  'BIF': 2284.647373,\n",
       "  'BMD': 1.131574,\n",
       "  'BND': 1.521908,\n",
       "  'BOB': 7.778753,\n",
       "  'BRL': 5.678011,\n",
       "  'BSD': 1.131504,\n",
       "  'BTC': 2.9261495e-05,\n",
       "  'BTN': 84.390439,\n",
       "  'BWP': 12.997878,\n",
       "  'BYN': 2.991836,\n",
       "  'BYR': 22178.845229,\n",
       "  'BZD': 2.280667,\n",
       "  'CAD': 1.43896,\n",
       "  'CDF': 2280.688327,\n",
       "  'CHF': 1.038813,\n",
       "  'CLF': 0.032433,\n",
       "  'CLP': 894.915953,\n",
       "  'CNY': 7.144534,\n",
       "  'COP': 4427.248296,\n",
       "  'CRC': 723.619739,\n",
       "  'CUC': 1.131574,\n",
       "  'CUP': 29.986704,\n",
       "  'CVE': 110.012589,\n",
       "  'CZK': 24.61289,\n",
       "  'DJF': 201.103943,\n",
       "  'DKK': 7.439196,\n",
       "  'DOP': 63.270832,\n",
       "  'DZD': 159.137819,\n",
       "  'EGP': 17.786755,\n",
       "  'ERN': 16.973628,\n",
       "  'ETB': 57.984861,\n",
       "  'EUR': 1,\n",
       "  'FJD': 2.40618,\n",
       "  'FKP': 0.823695,\n",
       "  'GBP': 0.83479,\n",
       "  'GEL': 3.366451,\n",
       "  'GGP': 0.823695,\n",
       "  'GHS': 7.580807,\n",
       "  'GIP': 0.823695,\n",
       "  'GMD': 60.310124,\n",
       "  'GNF': 10165.077417,\n",
       "  'GTQ': 8.729172,\n",
       "  'GYD': 236.607133,\n",
       "  'HKD': 8.832403,\n",
       "  'HNL': 27.861076,\n",
       "  'HRK': 7.5347,\n",
       "  'HTG': 117.744848,\n",
       "  'HUF': 359.864156,\n",
       "  'IDR': 16239.837053,\n",
       "  'ILS': 3.658174,\n",
       "  'IMP': 0.823695,\n",
       "  'INR': 84.4266,\n",
       "  'IQD': 1651.361145,\n",
       "  'IRR': 47837.279639,\n",
       "  'ISK': 141.209426,\n",
       "  'JEP': 0.823695,\n",
       "  'JMD': 175.942321,\n",
       "  'JOD': 0.802315,\n",
       "  'JPY': 130.270732,\n",
       "  'KES': 128.761856,\n",
       "  'KGS': 95.951243,\n",
       "  'KHR': 4600.544588,\n",
       "  'KMF': 491.583891,\n",
       "  'KPW': 1018.41654,\n",
       "  'KRW': 1349.323164,\n",
       "  'KWD': 0.342244,\n",
       "  'KYD': 0.942937,\n",
       "  'KZT': 495.293607,\n",
       "  'LAK': 12949.745002,\n",
       "  'LBP': 1710.706952,\n",
       "  'LKR': 229.12051,\n",
       "  'LRD': 174.403848,\n",
       "  'LSL': 17.029907,\n",
       "  'LTL': 3.341244,\n",
       "  'LVL': 0.684478,\n",
       "  'LYD': 5.194382,\n",
       "  'MAD': 10.661139,\n",
       "  'MDL': 20.33235,\n",
       "  'MGA': 4508.864936,\n",
       "  'MKD': 61.42413,\n",
       "  'MMK': 2011.904021,\n",
       "  'MNT': 3234.978261,\n",
       "  'MOP': 9.095232,\n",
       "  'MRO': 403.971629,\n",
       "  'MUR': 49.789556,\n",
       "  'MVR': 17.493914,\n",
       "  'MWK': 911.819936,\n",
       "  'MXN': 22.910945,\n",
       "  'MYR': 4.736199,\n",
       "  'MZN': 72.22803,\n",
       "  'NAD': 17.030482,\n",
       "  'NGN': 470.68939,\n",
       "  'NIO': 40.115959,\n",
       "  'NOK': 10.045769,\n",
       "  'NPR': 135.028194,\n",
       "  'NZD': 1.66807,\n",
       "  'OMR': 0.435594,\n",
       "  'PAB': 1.131504,\n",
       "  'PEN': 4.224176,\n",
       "  'PGK': 4.007306,\n",
       "  'PHP': 57.827375,\n",
       "  'PKR': 199.702506,\n",
       "  'PLN': 4.575975,\n",
       "  'PYG': 7842.705827,\n",
       "  'QAR': 4.120022,\n",
       "  'RON': 4.947579,\n",
       "  'RSD': 117.429082,\n",
       "  'RUB': 91.38533,\n",
       "  'RWF': 1176.819924,\n",
       "  'SAR': 4.245652,\n",
       "  'SBD': 9.144068,\n",
       "  'SCR': 14.923202,\n",
       "  'SDG': 502.987449,\n",
       "  'SEK': 10.597957,\n",
       "  'SGD': 1.522663,\n",
       "  'SHP': 1.558632,\n",
       "  'SLL': 13083.817357,\n",
       "  'SOS': 663.10193,\n",
       "  'SRD': 23.352289,\n",
       "  'STD': 23421.2917,\n",
       "  'SVC': 9.900285,\n",
       "  'SYP': 2842.512971,\n",
       "  'SZL': 17.014363,\n",
       "  'THB': 36.550921,\n",
       "  'TJS': 12.768504,\n",
       "  'TMT': 3.960508,\n",
       "  'TND': 31.531311,\n",
       "  'TOP': 2.585083,\n",
       "  'TRY': 15.623073,\n",
       "  'TTD': 7.681975,\n",
       "  'TWD': 31.543526,\n",
       "  'TZS': 2618.461646,\n",
       "  'UAH': 33.225568,\n",
       "  'UGX': 3974.780331,\n",
       "  'USD': 1.131574,\n",
       "  'UYU': 48.511696,\n",
       "  'UZS': 12265.328635,\n",
       "  'VEF': 241964663597.9211,\n",
       "  'VND': 25830.999463,\n",
       "  'VUV': 128.627587,\n",
       "  'WST': 2.956059,\n",
       "  'XAF': 654.455428,\n",
       "  'XAG': 0.050251,\n",
       "  'XAU': 0.000626,\n",
       "  'XCD': 3.058135,\n",
       "  'XDR': 0.806949,\n",
       "  'XOF': 654.455428,\n",
       "  'XPF': 119.494554,\n",
       "  'YER': 283.237917,\n",
       "  'ZAR': 17.083358,\n",
       "  'ZMK': 10185.490124,\n",
       "  'ZMW': 19.970281,\n",
       "  'ZWL': 364.366281}}"
      ]
     },
     "execution_count": 4,
     "metadata": {},
     "output_type": "execute_result"
    }
   ],
   "source": [
    "# Write your code here\n",
    "url = \"http://api.exchangeratesapi.io/v1/latest?base=EUR&access_key=2bbcaa9e6c006b9857337b3b54d5bcca\"  #Make sure to change ******* to your API key.\n",
    "response = requests.get(url)\n",
    "response.json()"
   ]
  },
  {
   "cell_type": "markdown",
   "metadata": {},
   "source": [
    "### Save as DataFrame\n",
    "\n",
    "<b> Question 2</b>  Using the data gathered turn it into a `pandas` dataframe. The dataframe should have the Currency as the index and `Rate` as their columns. Make sure to drop unnecessary columns.\n"
   ]
  },
  {
   "cell_type": "code",
   "execution_count": 5,
   "metadata": {},
   "outputs": [
    {
     "data": {
      "text/html": [
       "<div>\n",
       "<style scoped>\n",
       "    .dataframe tbody tr th:only-of-type {\n",
       "        vertical-align: middle;\n",
       "    }\n",
       "\n",
       "    .dataframe tbody tr th {\n",
       "        vertical-align: top;\n",
       "    }\n",
       "\n",
       "    .dataframe thead th {\n",
       "        text-align: right;\n",
       "    }\n",
       "</style>\n",
       "<table border=\"1\" class=\"dataframe\">\n",
       "  <thead>\n",
       "    <tr style=\"text-align: right;\">\n",
       "      <th></th>\n",
       "      <th>success</th>\n",
       "      <th>timestamp</th>\n",
       "      <th>base</th>\n",
       "      <th>date</th>\n",
       "      <th>rates</th>\n",
       "    </tr>\n",
       "  </thead>\n",
       "  <tbody>\n",
       "    <tr>\n",
       "      <th>AED</th>\n",
       "      <td>True</td>\n",
       "      <td>1645635662</td>\n",
       "      <td>EUR</td>\n",
       "      <td>2022-02-23</td>\n",
       "      <td>4.156383</td>\n",
       "    </tr>\n",
       "    <tr>\n",
       "      <th>AFN</th>\n",
       "      <td>True</td>\n",
       "      <td>1645635662</td>\n",
       "      <td>EUR</td>\n",
       "      <td>2022-02-23</td>\n",
       "      <td>104.104154</td>\n",
       "    </tr>\n",
       "    <tr>\n",
       "      <th>ALL</th>\n",
       "      <td>True</td>\n",
       "      <td>1645635662</td>\n",
       "      <td>EUR</td>\n",
       "      <td>2022-02-23</td>\n",
       "      <td>121.102145</td>\n",
       "    </tr>\n",
       "    <tr>\n",
       "      <th>AMD</th>\n",
       "      <td>True</td>\n",
       "      <td>1645635662</td>\n",
       "      <td>EUR</td>\n",
       "      <td>2022-02-23</td>\n",
       "      <td>541.774480</td>\n",
       "    </tr>\n",
       "    <tr>\n",
       "      <th>ANG</th>\n",
       "      <td>True</td>\n",
       "      <td>1645635662</td>\n",
       "      <td>EUR</td>\n",
       "      <td>2022-02-23</td>\n",
       "      <td>2.039221</td>\n",
       "    </tr>\n",
       "    <tr>\n",
       "      <th>...</th>\n",
       "      <td>...</td>\n",
       "      <td>...</td>\n",
       "      <td>...</td>\n",
       "      <td>...</td>\n",
       "      <td>...</td>\n",
       "    </tr>\n",
       "    <tr>\n",
       "      <th>YER</th>\n",
       "      <td>True</td>\n",
       "      <td>1645635662</td>\n",
       "      <td>EUR</td>\n",
       "      <td>2022-02-23</td>\n",
       "      <td>283.237917</td>\n",
       "    </tr>\n",
       "    <tr>\n",
       "      <th>ZAR</th>\n",
       "      <td>True</td>\n",
       "      <td>1645635662</td>\n",
       "      <td>EUR</td>\n",
       "      <td>2022-02-23</td>\n",
       "      <td>17.083358</td>\n",
       "    </tr>\n",
       "    <tr>\n",
       "      <th>ZMK</th>\n",
       "      <td>True</td>\n",
       "      <td>1645635662</td>\n",
       "      <td>EUR</td>\n",
       "      <td>2022-02-23</td>\n",
       "      <td>10185.490124</td>\n",
       "    </tr>\n",
       "    <tr>\n",
       "      <th>ZMW</th>\n",
       "      <td>True</td>\n",
       "      <td>1645635662</td>\n",
       "      <td>EUR</td>\n",
       "      <td>2022-02-23</td>\n",
       "      <td>19.970281</td>\n",
       "    </tr>\n",
       "    <tr>\n",
       "      <th>ZWL</th>\n",
       "      <td>True</td>\n",
       "      <td>1645635662</td>\n",
       "      <td>EUR</td>\n",
       "      <td>2022-02-23</td>\n",
       "      <td>364.366281</td>\n",
       "    </tr>\n",
       "  </tbody>\n",
       "</table>\n",
       "<p>168 rows × 5 columns</p>\n",
       "</div>"
      ],
      "text/plain": [
       "     success   timestamp base        date         rates\n",
       "AED     True  1645635662  EUR  2022-02-23      4.156383\n",
       "AFN     True  1645635662  EUR  2022-02-23    104.104154\n",
       "ALL     True  1645635662  EUR  2022-02-23    121.102145\n",
       "AMD     True  1645635662  EUR  2022-02-23    541.774480\n",
       "ANG     True  1645635662  EUR  2022-02-23      2.039221\n",
       "..       ...         ...  ...         ...           ...\n",
       "YER     True  1645635662  EUR  2022-02-23    283.237917\n",
       "ZAR     True  1645635662  EUR  2022-02-23     17.083358\n",
       "ZMK     True  1645635662  EUR  2022-02-23  10185.490124\n",
       "ZMW     True  1645635662  EUR  2022-02-23     19.970281\n",
       "ZWL     True  1645635662  EUR  2022-02-23    364.366281\n",
       "\n",
       "[168 rows x 5 columns]"
      ]
     },
     "execution_count": 5,
     "metadata": {},
     "output_type": "execute_result"
    }
   ],
   "source": [
    "# Turn the data into a dataframe\n",
    "dataframe = pd.DataFrame(response.json())\n",
    "dataframe"
   ]
  },
  {
   "cell_type": "code",
   "execution_count": 6,
   "metadata": {},
   "outputs": [
    {
     "data": {
      "text/html": [
       "<div>\n",
       "<style scoped>\n",
       "    .dataframe tbody tr th:only-of-type {\n",
       "        vertical-align: middle;\n",
       "    }\n",
       "\n",
       "    .dataframe tbody tr th {\n",
       "        vertical-align: top;\n",
       "    }\n",
       "\n",
       "    .dataframe thead th {\n",
       "        text-align: right;\n",
       "    }\n",
       "</style>\n",
       "<table border=\"1\" class=\"dataframe\">\n",
       "  <thead>\n",
       "    <tr style=\"text-align: right;\">\n",
       "      <th></th>\n",
       "      <th>rates</th>\n",
       "    </tr>\n",
       "  </thead>\n",
       "  <tbody>\n",
       "    <tr>\n",
       "      <th>AED</th>\n",
       "      <td>4.156383</td>\n",
       "    </tr>\n",
       "    <tr>\n",
       "      <th>AFN</th>\n",
       "      <td>104.104154</td>\n",
       "    </tr>\n",
       "    <tr>\n",
       "      <th>ALL</th>\n",
       "      <td>121.102145</td>\n",
       "    </tr>\n",
       "    <tr>\n",
       "      <th>AMD</th>\n",
       "      <td>541.774480</td>\n",
       "    </tr>\n",
       "    <tr>\n",
       "      <th>ANG</th>\n",
       "      <td>2.039221</td>\n",
       "    </tr>\n",
       "    <tr>\n",
       "      <th>...</th>\n",
       "      <td>...</td>\n",
       "    </tr>\n",
       "    <tr>\n",
       "      <th>YER</th>\n",
       "      <td>283.237917</td>\n",
       "    </tr>\n",
       "    <tr>\n",
       "      <th>ZAR</th>\n",
       "      <td>17.083358</td>\n",
       "    </tr>\n",
       "    <tr>\n",
       "      <th>ZMK</th>\n",
       "      <td>10185.490124</td>\n",
       "    </tr>\n",
       "    <tr>\n",
       "      <th>ZMW</th>\n",
       "      <td>19.970281</td>\n",
       "    </tr>\n",
       "    <tr>\n",
       "      <th>ZWL</th>\n",
       "      <td>364.366281</td>\n",
       "    </tr>\n",
       "  </tbody>\n",
       "</table>\n",
       "<p>168 rows × 1 columns</p>\n",
       "</div>"
      ],
      "text/plain": [
       "            rates\n",
       "AED      4.156383\n",
       "AFN    104.104154\n",
       "ALL    121.102145\n",
       "AMD    541.774480\n",
       "ANG      2.039221\n",
       "..            ...\n",
       "YER    283.237917\n",
       "ZAR     17.083358\n",
       "ZMK  10185.490124\n",
       "ZMW     19.970281\n",
       "ZWL    364.366281\n",
       "\n",
       "[168 rows x 1 columns]"
      ]
     },
     "execution_count": 6,
     "metadata": {},
     "output_type": "execute_result"
    }
   ],
   "source": [
    "# Drop unnescessary columns\n",
    "dataframe.drop(columns=[\"success\", \"timestamp\", \"base\", \"date\"], inplace=True)\n",
    "dataframe"
   ]
  },
  {
   "cell_type": "markdown",
   "metadata": {},
   "source": [
    "### Load the Data\n",
    "\n",
    "Using the dataframe save it as a CSV names `exchange_rates_1.csv`.\n"
   ]
  },
  {
   "cell_type": "code",
   "execution_count": null,
   "metadata": {},
   "outputs": [],
   "source": [
    "# Save the Dataframe\n"
   ]
  },
  {
   "cell_type": "markdown",
   "metadata": {},
   "source": [
    "Your CSV should be in this format with more currencies\n",
    "\n",
    "|     | Rates      |\n",
    "| --- | ---------- |\n",
    "| AED | 4.398618   |\n",
    "| AFN | 92.917693  |\n",
    "| ALL | 123.099093 |\n",
    "| AMD | 621.935674 |\n",
    "| ANG | 2.149648   |\n"
   ]
  },
  {
   "cell_type": "markdown",
   "metadata": {},
   "source": [
    "## Authors\n"
   ]
  },
  {
   "cell_type": "markdown",
   "metadata": {},
   "source": [
    "Ramesh Sannareddy, Joseph Santarcangelo and Azim Hirjani\n"
   ]
  },
  {
   "cell_type": "markdown",
   "metadata": {},
   "source": [
    "### Other Contributors\n"
   ]
  },
  {
   "cell_type": "markdown",
   "metadata": {},
   "source": [
    "Rav Ahuja\n"
   ]
  },
  {
   "cell_type": "markdown",
   "metadata": {},
   "source": [
    "## Change Log\n"
   ]
  },
  {
   "cell_type": "markdown",
   "metadata": {},
   "source": [
    "| Date (YYYY-MM-DD) | Version | Changed By        | Change Description                 |\n",
    "| ----------------- | ------- | ----------------- | ---------------------------------- |\n",
    "| 2021-04-15        | 0.2     | Malika            | Updated the lab from USD to EUR    |\n",
    "| 2020-11-25        | 0.1     | Ramesh Sannareddy | Created initial version of the lab |\n"
   ]
  },
  {
   "cell_type": "markdown",
   "metadata": {},
   "source": [
    "Copyright © 2020 IBM Corporation. This notebook and its source code are released under the terms of the [MIT License](https://cognitiveclass.ai/mit-license?utm_medium=Exinfluencer&utm_source=Exinfluencer&utm_content=000026UJ&utm_term=10006555&utm_id=NA-SkillsNetwork-Channel-SkillsNetworkCoursesIBMDeveloperSkillsNetworkPY0221ENSkillsNetwork23455645-2021-01-01&cm_mmc=Email_Newsletter-\\_-Developer_Ed%2BTech-\\_-WW_WW-\\_-SkillsNetwork-Courses-IBM-DA0321EN-SkillsNetwork-21426264&cm_mmca1=000026UJ&cm_mmca2=10006555&cm_mmca3=M12345678&cvosrc=email.Newsletter.M12345678&cvo_campaign=000026UJ).\n"
   ]
  }
 ],
 "metadata": {
  "kernelspec": {
   "display_name": "Python",
   "language": "python",
   "name": "conda-env-python-py"
  },
  "language_info": {
   "codemirror_mode": {
    "name": "ipython",
    "version": 3
   },
   "file_extension": ".py",
   "mimetype": "text/x-python",
   "name": "python",
   "nbconvert_exporter": "python",
   "pygments_lexer": "ipython3",
   "version": "3.7.12"
  }
 },
 "nbformat": 4,
 "nbformat_minor": 4
}
